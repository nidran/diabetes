{
 "cells": [
  {
   "cell_type": "code",
   "execution_count": 10,
   "id": "local-feature",
   "metadata": {},
   "outputs": [],
   "source": [
    "import pandas as pd\n",
    "import numpy as np\n",
    "import random\n",
    "from scipy.stats import norm\n",
    "import seaborn as sns\n",
    "import matplotlib.pyplot as plt\n",
    "import warnings\n",
    "import datetime\n",
    "warnings.filterwarnings('ignore')"
   ]
  },
  {
   "cell_type": "markdown",
   "id": "substantial-raise",
   "metadata": {},
   "source": [
    "### Generate common PID"
   ]
  },
  {
   "cell_type": "code",
   "execution_count": 31,
   "id": "scenic-maryland",
   "metadata": {},
   "outputs": [],
   "source": [
    "idx = []\n",
    "ss = 100000\n",
    "ageList = []\n",
    "\n",
    "def generate_PatientID (startIdx, endIdx, size):\n",
    "    return random.sample(range(startIdx, endIdx), size)\n",
    "idx = generate_PatientID(ss, 5*ss, ss)\n",
    "def table4_PatientID(idx, percent):\n",
    "     return [(random.choice(idx)) for x in range(0, percent) ]\n",
    "\n",
    "# print(letters[random_index])\n",
    "def random_Outcome( ss):\n",
    "    return np.random.randint(1, size=ss)\n",
    "def random_Noise( noise, rangeVal):\n",
    "    print( np.random.randint(rangeVal, size=noise))\n",
    "def generate_Date(ss):\n",
    "    dateList = pd.date_range(start='01-20-2011t14:00', periods=100, freq=\"1D\").date\n",
    "    dateTb=[]\n",
    "    for i in range(ss):\n",
    "        dateTb.append(random.choice(dateList))\n",
    "    return np.array(dateTb)\n",
    "    \n",
    "def generate_DateExtra(ss):\n",
    "    dateList = pd.date_range(start='01-20-2014t14:00', periods=100, freq=\"1D\").date\n",
    "    dateTb=[]\n",
    "    for i in range(ss):\n",
    "        dateTb.append(random.choice(dateList))\n",
    "    return np.array(dateTb)"
   ]
  },
  {
   "cell_type": "markdown",
   "id": "thick-birmingham",
   "metadata": {},
   "source": [
    "## Generate table 1"
   ]
  },
  {
   "cell_type": "code",
   "execution_count": 32,
   "id": "generic-quantum",
   "metadata": {},
   "outputs": [
    {
     "name": "stdout",
     "output_type": "stream",
     "text": [
      "(100000, 6)\n",
      "(100000, 6)\n"
     ]
    }
   ],
   "source": [
    "\n",
    "#Age to be seperately generated for children = 30%, adults = 50%, senior citizens = 20%\n",
    "def generate_Sex( ss):\n",
    "    randomNo= np.random.randint(2, size=ss)\n",
    "    return ['Female' if x != 0 else 'Male' for x in randomNo]\n",
    "\n",
    "def gen_dist(maxVal, probability, ss, ssRatio):\n",
    "    return np.random.binomial(n=int(maxVal), p=probability, size =int(ss*ssRatio))\n",
    "\n",
    "def generate_Table1(maxAge, ss, maxHeight, maxWeight, noise, idx):\n",
    "    ## todo - add outliers for each category\n",
    "    age=[]\n",
    "#     age.append(gen_dist(maxAge, 0.,ss, 0.05 )) #infant\n",
    "    age.append(gen_dist(maxAge, 0.20,ss, 0.3 )) #children\n",
    "    age.append(gen_dist(maxAge, 0.5,ss, 0.5)) #adults\n",
    "    age.append(gen_dist(maxAge, 0.7,ss, 0.2 )) #senior citizen\n",
    "#     age.append(gen_dist(maxAge, 0.8,ss, 0.05 )) # ss citizen\n",
    "    \n",
    "    \n",
    "    weight=[]\n",
    "#     weight.append(gen_dist(maxWeight, 0.1,ss, 0.05 )) #infant\n",
    "#     weight.append(gen_dist(maxWeight, 0.2,ss, 0.10 )) #children\n",
    "    weight.append(gen_dist(maxWeight, 0.3,ss, 0.15 ))\n",
    "    weight.append(gen_dist(maxWeight, 0.50,ss, 0.20 ))\n",
    "    weight.append(gen_dist(maxWeight, 0.70,ss, 0.35 )) #adults\n",
    "    weight.append(gen_dist(maxWeight, 0.85,ss, 0.25 ))\n",
    "    weight.append(gen_dist(maxWeight, 1,ss, 0.05 ))\n",
    "#     weight.append(gen_dist(maxWeight, 0.7,ss, 0.05 ))\n",
    "#     weight.append(gen_dist(maxWeight, 0.6,ss, 0.15 )) #senior citizen\n",
    "#     weight.append(gen_dist(maxWeight, 0.6,ss, 0.05 )) # ss citizen\n",
    "    \n",
    "    height=[]\n",
    "#     height.append(gen_dist(maxHeight, 0.21,ss, 0.05 )) #infant\n",
    "    height.append(gen_dist(maxHeight, 0.4,ss, 0.30 )) \n",
    "    height.append(gen_dist(maxHeight, 0.5,ss, 0.50 )) \n",
    "    height.append(gen_dist(maxHeight, 0.6,ss, 0.2 )) #children\n",
    "#     height.append(gen_dist(maxHeight, 0.7,ss, 0.35 )) #adults\n",
    "#     height.append(gen_dist(maxHeight, 0.9,ss, 0.10 ))\n",
    "#     height.append(gen_dist(maxHeight, 0.95,ss, 0.05 ))\n",
    "#     height.append(gen_dist(maxHeight, 0.6,ss, 0.15 )) #senior citizen\n",
    "#     height.append(gen_dist(maxHeight, 0.7,ss, 0.05 )) # ss citizen\n",
    "    \n",
    "    sex = generate_Sex(ss)\n",
    "    outcome = random_Outcome(ss)\n",
    "    tableData = np.transpose([idx, sex,np.concatenate(age, axis=None), np.concatenate(weight, axis=None), np.concatenate(height, axis=None),outcome])\n",
    "    names = ['PatientID','sex','age', 'weight', 'height', 'outcome']\n",
    "    print(tableData.shape)\n",
    "    df = pd.DataFrame(tableData, columns=names)\n",
    "#    \n",
    "    return df\n",
    "td1 = generate_Table1(100,\n",
    "                    ss, 200, 100, 100, idx)\n",
    "print(td1.shape)\n",
    "ageList=td1['age']"
   ]
  },
  {
   "cell_type": "code",
   "execution_count": 29,
   "id": "mineral-customs",
   "metadata": {},
   "outputs": [],
   "source": [
    "db = generate_DateExtra(ss)"
   ]
  },
  {
   "cell_type": "markdown",
   "id": "sophisticated-guarantee",
   "metadata": {},
   "source": [
    "### Generate data for table 1"
   ]
  },
  {
   "cell_type": "markdown",
   "id": "exciting-compromise",
   "metadata": {},
   "source": [
    "### Generate data for table 2\n",
    "columns in table 2 - PID, sex, pregnancies"
   ]
  },
  {
   "cell_type": "code",
   "execution_count": 33,
   "id": "reverse-plumbing",
   "metadata": {},
   "outputs": [
    {
     "name": "stdout",
     "output_type": "stream",
     "text": [
      "(100000, 3)\n",
      "       PatientID     sex pregnancies\n",
      "count     100000  100000      100000\n",
      "unique    100000       2           4\n",
      "top       113929  Female           0\n",
      "freq           1   50125       55138\n",
      "(100000, 3)\n"
     ]
    }
   ],
   "source": [
    "def generate_Sex( ss):\n",
    "    randomNo= np.random.randint(2, size=ss)\n",
    "    return ['Female' if x != 0 else 'Male' for x in randomNo]\n",
    "def random_Outcome( ss):\n",
    "    return np.random.randint(2, size=ss)\n",
    "   \n",
    "def generate_Table2(maxPreg, ss, noise, idx):\n",
    "    ## todo - add outliers for each category\n",
    "    preg=[]\n",
    "    preg.append(gen_dist(maxPreg, 0.0,ss, 0.05 )) #infant\n",
    "    preg.append(gen_dist(maxPreg, 0.05,ss, 0.25 )) #children\n",
    "    preg.append(gen_dist(maxPreg, 0.4,ss, 0.5 )) #adults\n",
    "    preg.append(gen_dist(maxPreg, 0.05,ss, 0.15 )) #senior citizen\n",
    "    preg.append(gen_dist(maxPreg, 0.0,ss, 0.05 )) # ss citizen\n",
    "    sex = generate_Sex(ss)\n",
    "#     preg = [x for x in zip(preg, sex) if x[1] is'Female' else 0]\n",
    "    outcome = random_Outcome(ss)\n",
    "    tableData = np.transpose([idx, sex,np.concatenate(preg, axis=None)])\n",
    "#     print(tableData)\n",
    "    names = ['PatientID','sex','pregnancies', ]\n",
    "    print(tableData.shape)\n",
    "    df = pd.DataFrame(tableData, columns=names)\n",
    "    \n",
    "    return df\n",
    "   \n",
    "td2 = generate_Table2(3, ss, 0, idx)\n",
    "print(td2.describe())\n",
    "print(td2.shape)"
   ]
  },
  {
   "cell_type": "markdown",
   "id": "operational-equality",
   "metadata": {},
   "source": [
    "## Generate data for table 3"
   ]
  },
  {
   "cell_type": "code",
   "execution_count": 34,
   "id": "primary-payment",
   "metadata": {},
   "outputs": [
    {
     "name": "stdout",
     "output_type": "stream",
     "text": [
      "(100000, 3)\n",
      "(100000, 3)\n"
     ]
    }
   ],
   "source": [
    "vision_list = ['normal','blurred_vision','cataract','AMD']\n",
    "eye_color_list = ['brown','hazel','blue','green','amber']\n",
    "def generate_table3(n, idx):\n",
    "    vision = np.random.choice(vision_list, n, p =[0.45,0.3,0.15,0.1])\n",
    "    eye_color =np.random.choice(eye_color_list,n, p=[0.55,0.15,0.15,0.1,0.05])\n",
    "#     outcome = random_Outcome(ss)\n",
    "    tableData = np.transpose([idx, np.concatenate(vision, axis=None),np.concatenate(eye_color, axis=None)])\n",
    "    n = ['PatientID','vision','eye_color']\n",
    "    print(tableData.shape)\n",
    "    df = pd.DataFrame(tableData, columns=n)\n",
    "    return df\n",
    "td3 = generate_table3(ss, idx)\n",
    "td3.describe()\n",
    "print(td3.shape)"
   ]
  },
  {
   "cell_type": "markdown",
   "id": "bronze-immigration",
   "metadata": {},
   "source": [
    "## Generate data for table 4"
   ]
  },
  {
   "cell_type": "code",
   "execution_count": 35,
   "id": "bright-belgium",
   "metadata": {},
   "outputs": [
    {
     "name": "stdout",
     "output_type": "stream",
     "text": [
      "       PatientID glucose blood_pressure insulin cholestrol     HDL     age\n",
      "count     100000  100000         100000  100000     100000  100000  100000\n",
      "unique    100000      77             67      71        118      39      83\n",
      "top       113929      98             84      90        173      42      50\n",
      "freq           1    5168           5653    5295       3929    8154    4106\n",
      "(100000, 7)\n"
     ]
    }
   ],
   "source": [
    "def generate_table4(ss,maxGlucose,maxbp,maxinsulin,maxcholestrol,maxhdl,noise, idx, age):\n",
    "    ## todo - add outliers for each category\n",
    "    \n",
    "    glucose=[]\n",
    "    glucose.append(gen_dist(maxGlucose, 0.7,ss, 0.70 )) #infant\n",
    "    glucose.append(gen_dist(maxGlucose, 0.9,ss, 0.20 )) #children\n",
    "    glucose.append(gen_dist(maxGlucose, 0.6,ss, 0.10)) #adults\n",
    "#     glucose.append(gen_dist(maxGlucose, 0.8,ss, 0.15 )) #senior citizen\n",
    "#     glucose.append(gen_dist(maxGlucose, 0.9,ss, 0.05 )) # ss citizen\n",
    "    \n",
    "    blood_pressure=[]\n",
    "    blood_pressure.append(gen_dist(maxbp, 0.7,ss, 0.7 )) #infant\n",
    "    blood_pressure.append(gen_dist(maxbp, 0.9,ss, 0.2 )) #children\n",
    "    blood_pressure.append(gen_dist(maxbp, 0.6,ss, 0.1 )) #adults\n",
    "#     blood_pressure.append(gen_dist(maxbp, 0.85,ss, 0.15 )) #senior citizen\n",
    "#     blood_pressure.append(gen_dist(maxbp, 0.93,ss, 0.05 )) # ss citizen\n",
    "    \n",
    "    insulin=[]\n",
    "    insulin.append(gen_dist(maxinsulin, 0.7,ss, 0.7 )) #infant\n",
    "    insulin.append(gen_dist(maxinsulin, 0.9,ss, 0.2 )) #children\n",
    "    insulin.append(gen_dist(maxinsulin, 0.6,ss, 0.1 )) #adults\n",
    "#     insulin.append(gen_dist(maxinsulin, 0.95,ss, 0.15 )) #senior citizen\n",
    "#     insulin.append(gen_dist(maxinsulin, 0.99,ss, 0.05 )) # ss citizen\n",
    "    \n",
    "    cholestrol=[]\n",
    "    cholestrol.append(gen_dist(maxcholestrol, 0.7,ss, 0.7 )) #infant\n",
    "    cholestrol.append(gen_dist(maxcholestrol, 0.9,ss, 0.2 )) #children\n",
    "    cholestrol.append(gen_dist(maxcholestrol, 0.60,ss, 0.1 )) #adults\n",
    "#     cholestrol.append(gen_dist(maxcholestrol, 0.70,ss, 0.15 )) #senior citizen\n",
    "#     cholestrol.append(gen_dist(maxcholestrol, 0.80,ss, 0.05 )) # ss citizen\n",
    "    \n",
    "    HDL=[]\n",
    "    HDL.append(gen_dist(maxhdl, 0.7,ss, 0.7 )) #infant\n",
    "    HDL.append(gen_dist(maxhdl, 0.9,ss, 0.2 )) #children\n",
    "    HDL.append(gen_dist(maxhdl, 0.6,ss, 0.1)) #adults\n",
    "#     HDL.append(gen_dist(maxhdl, 0.55,ss, 0.15 )) #senior citizen\n",
    "#     HDL.append(gen_dist(maxhdl, 0.50,ss, 0.05 )) # ss citizen\n",
    "    \n",
    "    #idx = generate_PatientID(ss, 5*ss, ss)\n",
    "    #sex = generate_Sex(ss)\n",
    "    \n",
    "#     outcome = random_Outcome(ss)\n",
    "    tableData = np.transpose([idx, np.concatenate(glucose,axis=None), np.concatenate(blood_pressure, axis=None),\n",
    "                             np.concatenate(insulin, axis=None),np.concatenate(cholestrol, axis=None),np.concatenate(HDL, axis=None),np.concatenate(age, axis=None)])\n",
    "    \n",
    "    names = ['PatientID','glucose', 'blood_pressure', 'insulin','cholestrol','HDL', 'age']\n",
    "    df4 = pd.DataFrame(tableData,columns=names)\n",
    "   \n",
    "    return df4\n",
    "#ss,maxGlucose,maxbp,maxinsulin,maxcholestrol,maxhdl,noise, idx, age\n",
    "td4 = generate_table4( ss, 140,120, 130, 245, 60,100, idx, ageList)\n",
    "print(td4.describe())\n",
    "print(td4.shape)\n",
    "# print(td4['PatientID'].tye)"
   ]
  },
  {
   "cell_type": "markdown",
   "id": "weighted-blackberry",
   "metadata": {},
   "source": [
    "## Generate data for Table 5"
   ]
  },
  {
   "cell_type": "code",
   "execution_count": 36,
   "id": "spanish-pregnancy",
   "metadata": {},
   "outputs": [
    {
     "name": "stdout",
     "output_type": "stream",
     "text": [
      "(100000, 4)\n",
      "           PatientID            flu      pneumonia             td\n",
      "count  100000.000000  100000.000000  100000.000000  100000.000000\n",
      "mean   299384.312560       1.274580       0.815260       0.849610\n",
      "std    115616.255152       0.905082       0.756715       0.772113\n",
      "min    100001.000000       0.000000       0.000000       0.000000\n",
      "25%    199331.000000       1.000000       0.000000       0.000000\n",
      "50%    298864.000000       1.000000       1.000000       1.000000\n",
      "75%    399350.000000       2.000000       1.000000       1.000000\n",
      "max    499998.000000       4.000000       3.000000       3.000000\n",
      "(100000, 4)\n"
     ]
    }
   ],
   "source": [
    "def gen_dist(maxVal, probability, ss, ssRatio):\n",
    "    return np.random.binomial(n=int(maxVal), p=probability, size =int(ss*ssRatio))\n",
    "def generate_PatientID (startIdx, endIdx, size):\n",
    "    return random.sample(range(startIdx, endIdx), size)\n",
    "def generate_table5(ss, noise, idx):\n",
    "#     print(ss)\n",
    "    flu=[]\n",
    "    flu.append(gen_dist(2, 0.3,ss, 0.05 )) #infant\n",
    "    flu.append(gen_dist(3, 0.4,ss, 0.25 )) #children\n",
    "    flu.append(gen_dist(3, 0.4,ss, 0.5 )) #adults\n",
    "    flu.append(gen_dist(3, 0.5,ss, 0.15 )) #senior citizen\n",
    "    flu.append(gen_dist(4, 0.6,ss, 0.05 )) # ss citizen\n",
    "    flu = np.concatenate(flu, axis=None)\n",
    "#     print(flu.shape)\n",
    "    pne=[]\n",
    "    pne.append(gen_dist(3, 0.3,ss, 0.05 )) #infant\n",
    "    pne.append(gen_dist(2, 0.4,ss, 0.25 )) #children\n",
    "    pne.append(gen_dist(3, 0.3,ss, 0.5 )) #adults\n",
    "    pne.append(gen_dist(3, 0.2,ss, 0.15 )) #senior citizen\n",
    "    pne.append(gen_dist(2, 0.3,ss, 0.05 )) # ss citizen\n",
    "#     print(np.concatenate(pne, axis=None))\n",
    "    pne = np.concatenate(pne, axis=None)\n",
    "#     print(pne.shape)\n",
    "    td=[]\n",
    "    td.append(gen_dist(3, 0.3,ss, 0.05 )) #infant\n",
    "    td.append(gen_dist(2, 0.4,ss, 0.25 )) #children\n",
    "    td.append(gen_dist(3, 0.3,ss, 0.5 )) #adults\n",
    "    td.append(gen_dist(3, 0.2,ss, 0.15 )) #senior citizen\n",
    "    td.append(gen_dist(3, 0.4,ss, 0.05 )) # ss citizen\n",
    "    td = np.concatenate(td, axis=None)\n",
    "#     print(td.shape)\n",
    "#     outcome = random_Outcome(ss)\n",
    "    tableData = np.transpose([idx, flu, pne, td])\n",
    "    print(tableData.shape)\n",
    "    names = ['PatientID','flu','pneumonia', 'td']\n",
    "    df = pd.DataFrame(tableData, columns=names)\n",
    "    return df\n",
    "\n",
    "td5 = generate_table5(ss, 100, idx)\n",
    "print(td5.describe())\n",
    "print(td5.shape)"
   ]
  },
  {
   "cell_type": "markdown",
   "id": "inappropriate-ocean",
   "metadata": {},
   "source": [
    "## join multiple tables to have a classification criteria"
   ]
  },
  {
   "cell_type": "code",
   "execution_count": 37,
   "id": "southwest-eligibility",
   "metadata": {},
   "outputs": [
    {
     "name": "stdout",
     "output_type": "stream",
     "text": [
      "100000\n",
      "100000\n",
      "100000\n",
      "100000\n",
      "['PatientID', 'sex', 'age', 'weight', 'height', 'outcome', 'pregnancies', 'vision', 'eye_color', 'glucose', 'blood_pressure', 'insulin', 'cholestrol', 'HDL', 'flu', 'pneumonia', 'td']\n",
      "(100000, 17)\n"
     ]
    }
   ],
   "source": [
    "#t1, t2\n",
    "merged_df = pd.merge(td1, td2, on=\"PatientID\")\n",
    "print(merged_df.shape[0])\n",
    "#t1, t2, t3\n",
    "merged_df1 = pd.merge(merged_df, td3, on=\"PatientID\")\n",
    "print(merged_df1.shape[0])\n",
    "merged_df1['PatientID']= merged_df1['PatientID'].astype(int)\n",
    "#t1, t2, t3, t4\n",
    "td4['PatientID']= td4['PatientID'].astype(int)\n",
    "merged_df2 = pd.merge(merged_df1, td4, on=\"PatientID\")\n",
    "print(merged_df2.shape[0])\n",
    "merged_df2['PatientID']= merged_df2['PatientID'].astype(int)\n",
    "#t1, t2, t3, t4, t5\n",
    "full_df = pd.merge(merged_df2, td5, on=\"PatientID\")\n",
    "full_df['PatientID']= merged_df2['PatientID'].astype(int)\n",
    "print(full_df.shape[0])\n",
    "# df = pd.merge(merged_df2, td5, on=\"PatientID\")\n",
    "\n",
    "\n",
    "full_df = full_df.rename(columns={\"sex_x\": \"sex\", \"age_x\":\"age\"})\n",
    "full_df = full_df.drop([\"sex_y\",\"age_y\"],1)\n",
    "## remove duplicated columns because of join\n",
    "full_df = full_df.loc[:,~full_df.columns.duplicated()]\n",
    "print(list(full_df.columns.values))\n",
    "print(full_df.shape)\n",
    "# try :\n",
    "    \n",
    "    \n",
    "# except:\n",
    "#     print(\"\")"
   ]
  },
  {
   "cell_type": "code",
   "execution_count": null,
   "id": "deadly-track",
   "metadata": {},
   "outputs": [],
   "source": [
    "def assign_output(df, x, xx):\n",
    "    ## criteria for adults\n",
    "    df['outcome'] =df['outcome'].astype(int)\n",
    "    df['age'] =df['age'].astype(int)\n",
    "    df['glucose'] =df['glucose'].astype(int)\n",
    "    df['pregnancies'] =df['pregnancies'].astype(int)\n",
    "    df['insulin'] =df['insulin'].astype(int)\n",
    "    df['blood_pressure'] = df['blood_pressure'].astype(int)\n",
    "    df['weight'] = df['weight'].astype(int)\n",
    "    \n",
    "    for i in range(df.shape[0]):\n",
    "        val= np.random.randint(-20\n",
    "                ,20,size=1)\n",
    "        k = df['glucose'][i] + (df['insulin'][i] ) + df['weight'][i] + val \n",
    "        if (k> 250 ):\n",
    "            td1['outcome'][i] = np.random.choice(np.arange(0, 2), p=[0, 1])\n",
    "            x.append(k)\n",
    "        else :\n",
    "            td1['outcome'][i] = np.random.choice(np.arange(0, 2), p=[1, 0])\n",
    "            xx.append(k)\n",
    "#         if (df['outcome'][i] == 1 and df['vision'][i]=='normal'):\n",
    "#             td1['outcome'][i] = np.random.choice(np.arange(0, 2), p=[0.1, 0.9])\n",
    "#         elif (df['outcome'][i] == 0 and df['vision'][i]=='blurred_vision'):\n",
    "#             td1['outcome'][i] = np.random.choice(np.arange(0, 2), p=[0.1, 0.9])\n",
    "#         if ( df['outcome'][i] == 0 and df['pneumonia'][i]>1):\n",
    "#             td1['outcome'][i] = np.random.choice(np.arange(0, 2), p=[0.1, 0.9])\n",
    "#           if ( df['outcome'][i] == 0 and df['pneumonia'][i]>1):\n",
    "#             td1['outcome'][i] = np.random.choice(np.arange(0, 2), p=[0.25, 0.75])\n",
    "#         if ( df['outcome'][i] == 0 and df['blood_pressure'][i]< 150):\n",
    "#             td1['outcome'][i] = np.random.choice(np.arange(0, 2), p=[0.35, 0.65])\n",
    "#        \n",
    "        \n",
    "        \n",
    "\n",
    "    return df, x, xx\n",
    "x=[]\n",
    "xx=[]\n",
    "df, x, xx = assign_output(full_df, x, xx)"
   ]
  },
  {
   "cell_type": "code",
   "execution_count": 39,
   "id": "naughty-regulation",
   "metadata": {},
   "outputs": [
    {
     "data": {
      "text/plain": [
       "1    54523\n",
       "0    45477\n",
       "Name: outcome, dtype: int64"
      ]
     },
     "execution_count": 39,
     "metadata": {},
     "output_type": "execute_result"
    }
   ],
   "source": [
    "td1['outcome'].value_counts()"
   ]
  },
  {
   "cell_type": "code",
   "execution_count": null,
   "id": "signed-acting",
   "metadata": {},
   "outputs": [],
   "source": [
    "df.shape"
   ]
  },
  {
   "cell_type": "code",
   "execution_count": null,
   "id": "meaningful-terrain",
   "metadata": {},
   "outputs": [],
   "source": [
    "td1['outcome']=df['outcome']"
   ]
  },
  {
   "cell_type": "code",
   "execution_count": 24,
   "id": "given-lebanon",
   "metadata": {},
   "outputs": [
    {
     "data": {
      "image/png": "[encoded data removed]",
      "text/plain": [
       "<Figure size 432x288 with 1 Axes>"
      ]
     },
     "metadata": {
      "needs_background": "light"
     },
     "output_type": "display_data"
    }
   ],
   "source": [
    "# x = []\n",
    "# y =[]\n",
    "# j=0\n",
    "# for i in range(df.shape[0]):\n",
    "#     if (df['glucose'][i] + (df['insulin'][i] ) + df['weight'][i] > 250):\n",
    "#         x.append(df['glucose'][i] + (df['insulin'][i] ) + df['weight'][i])\n",
    "y = [k for k in range(0, len(x))]\n",
    "# xx = []\n",
    "yy =[]\n",
    "# j=0\n",
    "# for i in range(df.shape[0]):\n",
    "#     if (df['glucose'][i] + (df['insulin'][i] ) + df['weight'][i] < 250):\n",
    "#         xx.append(df['glucose'][i] + (df['insulin'][i] ) + df['weight'][i])\n",
    "yy = [k for k in range(0, len(xx))]\n",
    "plt.plot(x,y, 'r')\n",
    "plt.plot(xx,yy, 'b')\n",
    "plt.show()"
   ]
  },
  {
   "cell_type": "code",
   "execution_count": null,
   "id": "consistent-reminder",
   "metadata": {},
   "outputs": [],
   "source": [
    "import matplotlib.pyplot as plt\n",
    "import numpy as np\n",
    "\n",
    "# 100 linearly spaced numbers\n",
    "x = []\n",
    "y =[]\n",
    "j=0\n",
    "# the function, which is y = x^2 here\n",
    "for i in range(df.shape[0]):\n",
    "    j+=1\n",
    "    if (td1['outcome'][i]==1):\n",
    "        x.append(int(df['glucose'][i] )+ int(df['insulin'][i]))\n",
    "y = [k for k in range(0, len(x))]\n",
    "#     x.append(df['age'][i])\n",
    "\n",
    "# setting the axes at the centre\n",
    "fig = plt.figure()\n",
    "ax = fig.add_subplot(1, 1, 1)\n",
    "ax.spines['left'].set_position('center')\n",
    "ax.spines['bottom'].set_position('zero')\n",
    "ax.spines['right'].set_color('none')\n",
    "ax.spines['top'].set_color('none')\n",
    "ax.xaxis.set_ticks_position('bottom')\n",
    "ax.yaxis.set_ticks_position('left')\n",
    "\n",
    "plt.plot(x,y, 'r')\n",
    "\n",
    "xx = []\n",
    "yy =[]\n",
    "j=0\n",
    "\n",
    "for i in range(df.shape[0]):\n",
    "    \n",
    "    if (td1['outcome'][i]==0):\n",
    "        xx.append(int(df['glucose'][i] )+ int(df['insulin'][i]))\n",
    "yy = [k for k in range(0, len(xx))]\n",
    "\n",
    "plt.plot(xx,yy, 'b')\n",
    "\n",
    "plt.show()\n"
   ]
  },
  {
   "cell_type": "code",
   "execution_count": null,
   "id": "alert-ballot",
   "metadata": {},
   "outputs": [],
   "source": [
    "fdf = df.drop(['PatientID', 'age','pregnancies', 'flu', 'pneumonia' ,'td'], axis =1)\n",
    "corrmat = fdf.corr()\n",
    "f, ax = plt.subplots(figsize=(12, 9))\n",
    "sns.heatmap(corrmat, vmax=.8, square=True);"
   ]
  },
  {
   "cell_type": "code",
   "execution_count": null,
   "id": "consolidated-devices",
   "metadata": {},
   "outputs": [],
   "source": [
    "df['outcome'].value_counts()"
   ]
  },
  {
   "cell_type": "markdown",
   "id": "centered-bridal",
   "metadata": {},
   "source": [
    "## assign this outcome value to all tables"
   ]
  },
  {
   "cell_type": "code",
   "execution_count": null,
   "id": "loved-minister",
   "metadata": {},
   "outputs": [],
   "source": [
    "tableList = [td1, td2, td3,  td5]\n",
    "\n",
    "print(\"1\")\n",
    "for i in td2['PatientID'].unique():\n",
    "    \n",
    "    searchID = df[df['PatientID']== int(i)].index.values\n",
    "    td2['outcome'][td2.index[td1['PatientID']== i]] = df['outcome'][max(searchID)]\n",
    "print(\"1\")\n",
    "for i in td3['PatientID'].unique():\n",
    "#     print (i)\n",
    "    searchID = df[df['PatientID']== int(i)].index.values\n",
    "    td3['outcome'][td3.index[td1['PatientID']== i]] = df['outcome'][max(searchID)]\n",
    "print(\"1\")\n",
    "for i in td5['PatientID'].unique():\n",
    "#     print (i)\n",
    "    searchID = df[df['PatientID']== int(i)].index.values\n",
    "    td5['outcome'][td5.index[td1['PatientID']== i]] = df['outcome'][max(searchID)]\n",
    "print(\"1\")\n",
    "for i in td4['PatientID'].unique():\n",
    "#     print (i)\n",
    "    searchID = df[df['PatientID']== int(i)].index.values\n",
    "    td4['outcome'][td4.index[td1['PatientID']== i]] = df['outcome'][max(searchID)]\n",
    "\n"
   ]
  },
  {
   "cell_type": "markdown",
   "id": "stuck-stroke",
   "metadata": {},
   "source": [
    "## shuffle data in each table"
   ]
  },
  {
   "cell_type": "code",
   "execution_count": 25,
   "id": "computational-traveler",
   "metadata": {},
   "outputs": [],
   "source": [
    "tableList = [td1, td2, td3, td4, td5]\n",
    "for table in tableList :\n",
    "    table = table.sample(frac = 1)"
   ]
  },
  {
   "cell_type": "markdown",
   "id": "cosmetic-mercy",
   "metadata": {},
   "source": [
    "## write all tables in csv"
   ]
  },
  {
   "cell_type": "code",
   "execution_count": 27,
   "id": "involved-angel",
   "metadata": {},
   "outputs": [],
   "source": [
    "td1.to_csv(\"table1_wo.csv\")\n",
    "td2.to_csv(\"table2_wo.csv\")\n",
    "td3.to_csv(\"table3_wo.csv\")\n",
    "td4.to_csv(\"table4_wo.csv\")\n",
    "td5.to_csv(\"table5_wo.csv\")"
   ]
  },
  {
   "cell_type": "code",
   "execution_count": null,
   "id": "municipal-bahrain",
   "metadata": {},
   "outputs": [],
   "source": [
    "td1['outcome']=df['outcome']"
   ]
  },
  {
   "cell_type": "markdown",
   "id": "popular-index",
   "metadata": {},
   "source": [
    "### Visualise all tables "
   ]
  },
  {
   "cell_type": "code",
   "execution_count": null,
   "id": "devoted-resistance",
   "metadata": {},
   "outputs": [],
   "source": [
    "plt.figure()\n",
    "sns.distplot(df['glucose'])"
   ]
  },
  {
   "cell_type": "code",
   "execution_count": null,
   "id": "sixth-deployment",
   "metadata": {},
   "outputs": [],
   "source": [
    "plt.figure()\n",
    "sns.distplot(df['insulin'])"
   ]
  },
  {
   "cell_type": "code",
   "execution_count": null,
   "id": "committed-lebanon",
   "metadata": {},
   "outputs": [],
   "source": [
    "for i in td2.columns:\n",
    "    if (i=='sex' or i=='PatientID'):\n",
    "        continue\n",
    "    else :\n",
    "        plt.figure()\n",
    "        sns.distplot(td2[i])"
   ]
  },
  {
   "cell_type": "code",
   "execution_count": null,
   "id": "lovely-stereo",
   "metadata": {},
   "outputs": [],
   "source": [
    "for i in td4.columns:\n",
    "    print(i)\n",
    "    if (i=='sex' or i=='PatientID'):\n",
    "        continue\n",
    "    else :\n",
    "        plt.figure()\n",
    "        sns.distplot(td4[i])"
   ]
  },
  {
   "cell_type": "code",
   "execution_count": null,
   "id": "nutritional-diagnosis",
   "metadata": {},
   "outputs": [],
   "source": [
    "for i in td5.columns:\n",
    "    if (i=='sex' or i=='PatientID'):\n",
    "        continue\n",
    "    else :\n",
    "        plt.figure()\n",
    "        sns.distplot(td5[i])"
   ]
  },
  {
   "cell_type": "code",
   "execution_count": null,
   "id": "gorgeous-romance",
   "metadata": {},
   "outputs": [],
   "source": []
  },
  {
   "cell_type": "code",
   "execution_count": null,
   "id": "enormous-brooklyn",
   "metadata": {},
   "outputs": [],
   "source": [
    "df['outcome'].value_counts()"
   ]
  },
  {
   "cell_type": "code",
   "execution_count": null,
   "id": "bacterial-commercial",
   "metadata": {},
   "outputs": [],
   "source": [
    "categorical = ['vision', 'eye_color', 'sex', 'PatientID', 'age']\n",
    "for i in full_df.columns:\n",
    "    if (i in categorical):\n",
    "        continue\n",
    "    else :\n",
    "        \n",
    "        plt.figure()\n",
    "        sns.distplot(full_df[i])"
   ]
  },
  {
   "cell_type": "code",
   "execution_count": null,
   "id": "brave-actor",
   "metadata": {},
   "outputs": [],
   "source": [
    "fdf = df\n",
    "from sklearn import linear_model\n",
    "from sklearn.model_selection import train_test_split\n",
    "regr = linear_model.LinearRegression()\n",
    "\n",
    "from sklearn.preprocessing import LabelEncoder\n",
    "\n",
    "sex_types = ('Male', 'Female')\n",
    "eye_color_type =('amber', 'brown', )\n",
    "vision_type = ('normal','blurred_vision','cataract','AMD')\n",
    "eye_color_type = ('brown','hazel','blue','green','amber')\n",
    "labelencoder = LabelEncoder()\n",
    "\n",
    "y = fdf['outcome']\n",
    "fdf = fdf.drop([\"outcome\", \"sex\", \"vision\", \"eye_color\", \"blood_pressure\",\"insulin\", \"cholestrol\", \"PatientID\", \"height\", \"flu\", \"pneumonia\", \"pregnancies\"],axis=1)\n",
    "\n",
    "\n",
    "X = fdf\n",
    "\n",
    "\n",
    "X_train, X_test, y_train, y_test = train_test_split(X, y, stratify=y,\n",
    "                                                    random_state=1)\n",
    "clf = MLPClassifier(random_state=1, max_iter=300).fit(X_train, y_train)\n",
    "\n",
    "\n",
    "print(clf.score(X_test, y_test))\n"
   ]
  },
  {
   "cell_type": "code",
   "execution_count": null,
   "id": "equipped-think",
   "metadata": {},
   "outputs": [],
   "source": [
    "fdf = df\n",
    "from sklearn import linear_model\n",
    "from sklearn.model_selection import train_test_split\n",
    "regr = linear_model.LinearRegression()\n",
    "\n",
    "from sklearn.preprocessing import LabelEncoder\n",
    "\n",
    "sex_types = ('Male', 'Female')\n",
    "eye_color_type =('amber', 'brown', )\n",
    "vision_type = ('normal','blurred_vision','cataract','AMD')\n",
    "eye_color_type = ('brown','hazel','blue','green','amber')\n",
    "labelencoder = LabelEncoder()\n",
    "\n",
    "y = fdf['outcome']\n",
    "fdf = fdf.drop([\"outcome\", \"sex\", \"vision\", \"eye_color\"],axis=1)\n",
    "X = fdf\n",
    "\n",
    "\n",
    "X_train, X_test, y_train, y_test = train_test_split(X, y, stratify=y,\n",
    "                                                    random_state=1)\n",
    "clf = MLPClassifier(random_state=1, max_iter=300).fit(X_train, y_train)\n",
    "\n",
    "print(clf.score(X_test, y_test))\n"
   ]
  },
  {
   "cell_type": "code",
   "execution_count": null,
   "id": "given-costs",
   "metadata": {},
   "outputs": [],
   "source": [
    "from sklearn.neural_network import MLPClassifier\n",
    "from sklearn.datasets import make_classification\n",
    "from sklearn.model_selection import train_test_split\n",
    "from sklearn.cluster import KMeans\n",
    "kmeans = KMeans(4, random_state=0)\n",
    "labels = kmeans.fit(X).predict(X)\n",
    "# plt.scatter(X[:, 0], , c=labels, s=40, cmap='viridis');"
   ]
  },
  {
   "cell_type": "raw",
   "id": "comprehensive-express",
   "metadata": {},
   "source": [
    "#f(x) > y -> 1\n",
    "#f(x) < y -> 0\n",
    "\n",
    "y will adult data\n",
    "majority data = adult\n",
    "glucose (child) << glucose(adult)\n",
    "insuldin(child) << insulin(adult)\n",
    "\n",
    "no correlation btw age and glucose, insulin\n",
    "\n",
    "glucose > 140 \n",
    "insulin > 100 \n",
    "diabetes"
   ]
  }
 ],
 "metadata": {
  "kernelspec": {
   "display_name": "Python 3",
   "language": "python",
   "name": "python3"
  },
  "language_info": {
   "codemirror_mode": {
    "name": "ipython",
    "version": 3
   },
   "file_extension": ".py",
   "mimetype": "text/x-python",
   "name": "python",
   "nbconvert_exporter": "python",
   "pygments_lexer": "ipython3",
   "version": "3.8.5"
  }
 },
 "nbformat": 4,
 "nbformat_minor": 5
}
