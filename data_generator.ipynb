{
 "cells": [
  {
   "cell_type": "code",
   "execution_count": 1,
   "id": "local-feature",
   "metadata": {},
   "outputs": [],
   "source": [
    "import pandas as pd\n",
    "import numpy as np\n",
    "import random\n",
    "from scipy.stats import norm"
   ]
  },
  {
   "cell_type": "markdown",
   "id": "collected-survival",
   "metadata": {},
   "source": [
    "#### Generate uniqueID for each patient"
   ]
  },
  {
   "cell_type": "code",
   "execution_count": 2,
   "id": "british-reporter",
   "metadata": {},
   "outputs": [],
   "source": [
    "def generate_PatientID (startIdx, endIdx, size):\n",
    "    return random.sample(range(startIdx, endIdx), size)"
   ]
  },
  {
   "cell_type": "markdown",
   "id": "amber-scholar",
   "metadata": {},
   "source": [
    "#### Generate random no 0, 1, and assign 0 as Male, 1 as female"
   ]
  },
  {
   "cell_type": "code",
   "execution_count": 64,
   "id": "handmade-gazette",
   "metadata": {},
   "outputs": [],
   "source": [
    "def generate_Sex( ss):\n",
    "    randomNo= np.random.randint(2, size=ss)\n",
    "    return ['Female' if x != 0 else 'Male' for x in randomNo]\n",
    "   "
   ]
  },
  {
   "cell_type": "markdown",
   "id": "separated-creature",
   "metadata": {},
   "source": [
    "#### Generate Age, weight for patients"
   ]
  },
  {
   "cell_type": "code",
   "execution_count": 92,
   "id": "generic-quantum",
   "metadata": {},
   "outputs": [],
   "source": [
    "#Age to be seperately generated for children = 30%, adults = 50%, senior citizens = 20%\n",
    "def gen_dist(maxVal, probability, ss, ssRatio):\n",
    "    return np.random.binomial(n=int(maxVal), p=probability, size =int(ss*ssRatio))\n",
    "\n",
    "def generate_Table1(maxAge, ss, maxHeight, maxWeight, noise):\n",
    "    ## todo - add outliers for each category\n",
    "    age=[]\n",
    "    age.append(gen_dist(maxAge, 0.007,ss, 0.05 )) #infant\n",
    "    age.append(gen_dist(maxAge, 0.1,ss, 0.25 )) #children\n",
    "    age.append(gen_dist(maxAge, 0.3,ss, 0.5 )) #adults\n",
    "    age.append(gen_dist(maxAge, 0.6,ss, 0.15 )) #senior citizen\n",
    "    age.append(gen_dist(maxAge, 0.8,ss, 0.05 )) # ss citizen\n",
    "    \n",
    "    weight=[]\n",
    "    weight.append(gen_dist(maxAge, 0.005,ss, 0.05 )) #infant\n",
    "    weight.append(gen_dist(maxAge, 0.2,ss, 0.25 )) #children\n",
    "    weight.append(gen_dist(maxAge, 0.5,ss, 0.5 )) #adults\n",
    "    weight.append(gen_dist(maxAge, 0.6,ss, 0.15 )) #senior citizen\n",
    "    weight.append(gen_dist(maxAge, 0.6,ss, 0.05 )) # ss citizen\n",
    "    \n",
    "    height=[]\n",
    "    height.append(gen_dist(maxHeight, 0.21,ss, 0.05 )) #infant\n",
    "    height.append(gen_dist(maxHeight, 0.5,ss, 0.25 )) #children\n",
    "    height.append(gen_dist(maxHeight, 0.7,ss, 0.5 )) #adults\n",
    "    height.append(gen_dist(maxHeight, 0.6,ss, 0.15 )) #senior citizen\n",
    "    height.append(gen_dist(maxHeight, 0.7,ss, 0.05 )) # ss citizen\n",
    "    \n",
    "    idx = generate_PatientID(ss, 5*ss, ss)\n",
    "    sex = generate_Sex(ss)\n",
    "    \n",
    "   \n",
    "    tableData = np.transpose([sex,np.concatenate(age, axis=None), np.concatenate(weight, axis=None), np.concatenate(height, axis=None)])\n",
    "    names = ['sex','age', 'weight', 'height']\n",
    "    df = pd.DataFrame(tableData, index=idx, columns=names)\n",
    "   \n",
    "    return df"
   ]
  },
  {
   "cell_type": "code",
   "execution_count": 104,
   "id": "quarterly-facility",
   "metadata": {},
   "outputs": [
    {
     "data": {
      "text/html": [
       "<div>\n",
       "<style scoped>\n",
       "    .dataframe tbody tr th:only-of-type {\n",
       "        vertical-align: middle;\n",
       "    }\n",
       "\n",
       "    .dataframe tbody tr th {\n",
       "        vertical-align: top;\n",
       "    }\n",
       "\n",
       "    .dataframe thead th {\n",
       "        text-align: right;\n",
       "    }\n",
       "</style>\n",
       "<table border=\"1\" class=\"dataframe\">\n",
       "  <thead>\n",
       "    <tr style=\"text-align: right;\">\n",
       "      <th></th>\n",
       "      <th>sex</th>\n",
       "      <th>age</th>\n",
       "      <th>weight</th>\n",
       "      <th>height</th>\n",
       "    </tr>\n",
       "  </thead>\n",
       "  <tbody>\n",
       "    <tr>\n",
       "      <th>count</th>\n",
       "      <td>200</td>\n",
       "      <td>200</td>\n",
       "      <td>200</td>\n",
       "      <td>200</td>\n",
       "    </tr>\n",
       "    <tr>\n",
       "      <th>unique</th>\n",
       "      <td>2</td>\n",
       "      <td>59</td>\n",
       "      <td>48</td>\n",
       "      <td>66</td>\n",
       "    </tr>\n",
       "    <tr>\n",
       "      <th>top</th>\n",
       "      <td>Male</td>\n",
       "      <td>29</td>\n",
       "      <td>46</td>\n",
       "      <td>130</td>\n",
       "    </tr>\n",
       "    <tr>\n",
       "      <th>freq</th>\n",
       "      <td>105</td>\n",
       "      <td>13</td>\n",
       "      <td>12</td>\n",
       "      <td>9</td>\n",
       "    </tr>\n",
       "  </tbody>\n",
       "</table>\n",
       "</div>"
      ],
      "text/plain": [
       "         sex  age weight height\n",
       "count    200  200    200    200\n",
       "unique     2   59     48     66\n",
       "top     Male   29     46    130\n",
       "freq     105   13     12      9"
      ]
     },
     "execution_count": 104,
     "metadata": {},
     "output_type": "execute_result"
    }
   ],
   "source": [
    "td1 = generate_Table1(100,\n",
    "                    200, 180, 100, 100)\n",
    "td1.describe()"
   ]
  },
  {
   "cell_type": "markdown",
   "id": "exciting-compromise",
   "metadata": {},
   "source": [
    "#### generate data for table 2\n",
    "columns in table 2 - PID, sex, pregnancies"
   ]
  },
  {
   "cell_type": "code",
   "execution_count": 151,
   "id": "reverse-plumbing",
   "metadata": {},
   "outputs": [],
   "source": [
    "def generate_Sex( ss):\n",
    "    randomNo= np.random.randint(2, size=ss)\n",
    "    return ['Female' if x != 0 else 'Male' for x in randomNo]\n",
    "   \n",
    "def generate_Table2(maxPreg, ss, noise):\n",
    "    ## todo - add outliers for each category\n",
    "    preg=[]\n",
    "    preg.append(gen_dist(maxPreg, 0.0,ss, 0.05 )) #infant\n",
    "    preg.append(gen_dist(maxPreg, 0.05,ss, 0.25 )) #children\n",
    "    preg.append(gen_dist(maxPreg, 0.4,ss, 0.5 )) #adults\n",
    "    preg.append(gen_dist(maxPreg, 0.05,ss, 0.15 )) #senior citizen\n",
    "    preg.append(gen_dist(maxPreg, 0.0,ss, 0.05 )) # ss citizen\n",
    "    sex = generate_Sex(ss)\n",
    "#     preg = [x for x in zip(preg, sex) if x[1] is'Female' else 0]\n",
    "    tableData = np.transpose([sex,np.concatenate(preg, axis=None)])\n",
    "#     print(tableData)\n",
    "    names = ['sex','pregnancies']\n",
    "    idx = generate_PatientID(ss, 5*ss, ss)\n",
    "    df = pd.DataFrame(tableData, index=idx, columns=names)\n",
    "    \n",
    "    return df\n",
    "   \n",
    "    "
   ]
  },
  {
   "cell_type": "code",
   "execution_count": 153,
   "id": "primary-payment",
   "metadata": {},
   "outputs": [
    {
     "data": {
      "text/html": [
       "<div>\n",
       "<style scoped>\n",
       "    .dataframe tbody tr th:only-of-type {\n",
       "        vertical-align: middle;\n",
       "    }\n",
       "\n",
       "    .dataframe tbody tr th {\n",
       "        vertical-align: top;\n",
       "    }\n",
       "\n",
       "    .dataframe thead th {\n",
       "        text-align: right;\n",
       "    }\n",
       "</style>\n",
       "<table border=\"1\" class=\"dataframe\">\n",
       "  <thead>\n",
       "    <tr style=\"text-align: right;\">\n",
       "      <th></th>\n",
       "      <th>sex</th>\n",
       "      <th>pregnancies</th>\n",
       "    </tr>\n",
       "  </thead>\n",
       "  <tbody>\n",
       "    <tr>\n",
       "      <th>count</th>\n",
       "      <td>100</td>\n",
       "      <td>100</td>\n",
       "    </tr>\n",
       "    <tr>\n",
       "      <th>unique</th>\n",
       "      <td>2</td>\n",
       "      <td>4</td>\n",
       "    </tr>\n",
       "    <tr>\n",
       "      <th>top</th>\n",
       "      <td>Male</td>\n",
       "      <td>0</td>\n",
       "    </tr>\n",
       "    <tr>\n",
       "      <th>freq</th>\n",
       "      <td>50</td>\n",
       "      <td>54</td>\n",
       "    </tr>\n",
       "  </tbody>\n",
       "</table>\n",
       "</div>"
      ],
      "text/plain": [
       "         sex pregnancies\n",
       "count    100         100\n",
       "unique     2           4\n",
       "top     Male           0\n",
       "freq      50          54"
      ]
     },
     "execution_count": 153,
     "metadata": {},
     "output_type": "execute_result"
    }
   ],
   "source": [
    "td2 = generate_Table2(3, 100, 0)\n",
    "td2.describe()"
   ]
  }
 ],
 "metadata": {
  "kernelspec": {
   "display_name": "Python 3",
   "language": "python",
   "name": "python3"
  },
  "language_info": {
   "codemirror_mode": {
    "name": "ipython",
    "version": 3
   },
   "file_extension": ".py",
   "mimetype": "text/x-python",
   "name": "python",
   "nbconvert_exporter": "python",
   "pygments_lexer": "ipython3",
   "version": "3.8.8"
  }
 },
 "nbformat": 4,
 "nbformat_minor": 5
}
